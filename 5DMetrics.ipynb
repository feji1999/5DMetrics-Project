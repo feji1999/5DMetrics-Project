{
 "cells": [
  {
   "cell_type": "markdown",
   "metadata": {},
   "source": [
    "## 5DMetrics Project(2024) BY Fejiro Eruotor\n",
    "Project to visualize the 5 core metrics I use to infer quality and balance of a human's life.\n",
    "We will be using the python library, Plotly for our visualization and this app will be the predeccessor to the flagship Mindfulness Center App built for Mbed OS and the Archirstal Watch."
   ]
  },
  {
   "cell_type": "code",
   "execution_count": 4,
   "metadata": {},
   "outputs": [
    {
     "ename": "",
     "evalue": "",
     "output_type": "error",
     "traceback": [
      "\u001b[1;31mThe Kernel crashed while executing code in the current cell or a previous cell. \n",
      "\u001b[1;31mPlease review the code in the cell(s) to identify a possible cause of the failure. \n",
      "\u001b[1;31mClick <a href='https://aka.ms/vscodeJupyterKernelCrash'>here</a> for more info. \n",
      "\u001b[1;31mView Jupyter <a href='command:jupyter.viewOutput'>log</a> for further details."
     ]
    }
   ],
   "source": [
    "# we need to do a pip install for plotly library if not already installed on your PC."
   ]
  },
  {
   "cell_type": "code",
   "execution_count": 12,
   "metadata": {},
   "outputs": [
    {
     "data": {
      "text/plain": [
       "'temp-plot.html'"
      ]
     },
     "execution_count": 12,
     "metadata": {},
     "output_type": "execute_result"
    }
   ],
   "source": [
    "import plotly.graph_objects as go\n",
    "import plotly.offline as pyo\n",
    "\n",
    "categories = ['Spirituality/Mindfulness', 'Physical Health Metrics', 'Career Metrics', 'Financial Metrics', 'Social Circles']\n",
    "categories = [*categories, categories[0]]\n",
    "\n",
    "spirituality = [4, 4, 5, 4, 3]\n",
    "physical_health = [5, 5, 4, 5, 2]\n",
    "career = [3, 4, 5, 3, 5]\n",
    "financial = [2, 3, 4, 2, 4]  # Sample data for the new label\n",
    "social = [4, 3, 2, 5, 3]  # Sample data for the new label\n",
    "\n",
    "spirituality = [*spirituality, spirituality[0]]\n",
    "physical_health = [*physical_health, physical_health[0]]\n",
    "career = [*career, career[0]]\n",
    "financial = [*financial, financial[0]]\n",
    "social = [*social, social[0]]\n",
    "\n",
    "fig = go.Figure(\n",
    "    data=[\n",
    "        go.Scatterpolar(r=spirituality, theta=categories, name='Spirituality/Mindfulness'),\n",
    "        go.Scatterpolar(r=physical_health, theta=categories, name='Physical Health Metrics'),\n",
    "        go.Scatterpolar(r=career, theta=categories, name='Career Metrics'),\n",
    "        go.Scatterpolar(r=financial, theta=categories, name='Financial Metrics'),  # New label\n",
    "        go.Scatterpolar(r=social, theta=categories, name='Social Circles')  # New label\n",
    "    ],\n",
    "    layout=go.Layout(\n",
    "        title=go.layout.Title(text='5 Dimensional Lifestyle Metrics'),\n",
    "        polar={'radialaxis': {'visible': True}},\n",
    "        showlegend=True,\n",
    "    )\n",
    ")\n",
    "\n",
    "fig.update_layout(\n",
    "    polar=dict(\n",
    "        radialaxis=dict(\n",
    "            visible=True,\n",
    "        ),\n",
    "        angularaxis=dict(\n",
    "            direction='clockwise',  # 'clockwise' or 'counterclockwise'\n",
    "            rotation=90  # Specify starting position angle in degrees\n",
    "        )\n",
    "    )\n",
    ")\n",
    "\n",
    "pyo.plot(fig)\n"
   ]
  },
  {
   "cell_type": "markdown",
   "metadata": {},
   "source": [
    "### Next we would want to feed this Radar Chart from an external/remote JSON file."
   ]
  }
 ],
 "metadata": {
  "kernelspec": {
   "display_name": "Python 3",
   "language": "python",
   "name": "python3"
  },
  "language_info": {
   "codemirror_mode": {
    "name": "ipython",
    "version": 3
   },
   "file_extension": ".py",
   "mimetype": "text/x-python",
   "name": "python",
   "nbconvert_exporter": "python",
   "pygments_lexer": "ipython3",
   "version": "3.12.1"
  }
 },
 "nbformat": 4,
 "nbformat_minor": 2
}
